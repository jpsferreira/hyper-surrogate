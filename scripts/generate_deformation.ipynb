{
 "cells": [
  {
   "cell_type": "code",
   "execution_count": 15,
   "metadata": {},
   "outputs": [],
   "source": [
    "import numpy as np\n",
    "import sympy as sym\n",
    "from hyper_surrogate.deformation_gradient import DeformationGradientGenerator\n",
    "from hyper_surrogate.kinematics import Kinematics as K\n",
    "from hyper_surrogate.symbolic import SymbolicHandler as handler"
   ]
  },
  {
   "cell_type": "code",
   "execution_count": 45,
   "metadata": {},
   "outputs": [],
   "source": [
    "SIZE = 10000\n",
    "f = DeformationGradientGenerator(seed=42, size=SIZE).generate()"
   ]
  },
  {
   "cell_type": "code",
   "execution_count": null,
   "metadata": {},
   "outputs": [],
   "source": [
    "\n",
    "\n"
   ]
  },
  {
   "cell_type": "code",
   "execution_count": null,
   "metadata": {},
   "outputs": [],
   "source": [
    "ps = K().principal_stretches(f)\n",
    "# ps is a list of lists. get max of each list.\n",
    "ps1 = [max(p) for p in ps]\n",
    "ps2 = [np.mean(p) for p in ps]\n",
    "ps3 = [min(p) for p in ps]\n",
    "\n",
    "#histogram with kde and legend\n",
    "sns.histplot(ps1, bins=100, kde=True, label='max')\n",
    "sns.histplot(ps2, bins=100, kde=True, label='mean')\n",
    "sns.histplot(ps3, bins=100, kde=True, label='min')\n",
    "# add legend\n",
    "plt.legend()"
   ]
  },
  {
   "cell_type": "code",
   "execution_count": null,
   "metadata": {},
   "outputs": [],
   "source": []
  },
  {
   "cell_type": "code",
   "execution_count": null,
   "metadata": {},
   "outputs": [],
   "source": [
    "# symbolic starter\n",
    "h = handler()\n",
    "sef = (h.invariant1 - 3) * sym.Symbol(\"C10\") + (h.invariant2 - 3) * sym.Symbol(\"C01\")\n",
    "sef_params = {\"C10\": 1, \"C01\": 1}\n",
    "pk2 = h.pk2_tensor(sef)"
   ]
  },
  {
   "cell_type": "code",
   "execution_count": null,
   "metadata": {},
   "outputs": [],
   "source": []
  }
 ],
 "metadata": {
  "kernelspec": {
   "display_name": "hyper-surrogate-lMkffKrT-py3.11",
   "language": "python",
   "name": "python3"
  },
  "language_info": {
   "codemirror_mode": {
    "name": "ipython",
    "version": 3
   },
   "file_extension": ".py",
   "mimetype": "text/x-python",
   "name": "python",
   "nbconvert_exporter": "python",
   "pygments_lexer": "ipython3",
   "version": "3.11.2"
  }
 },
 "nbformat": 4,
 "nbformat_minor": 2
}
