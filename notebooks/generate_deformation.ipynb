{
 "cells": [
  {
   "cell_type": "code",
   "execution_count": 7,
   "metadata": {},
   "outputs": [],
   "source": [
    "import numpy as np\n",
    "\n",
    "from hyper_surrogate.deformation_gradient import DeformationGradientGenerator\n",
    "from hyper_surrogate.kinematics import Kinematics as K\n",
    "from hyper_surrogate.materials import NeoHooke"
   ]
  },
  {
   "cell_type": "code",
   "execution_count": 8,
   "metadata": {},
   "outputs": [],
   "source": [
    "SIZE = 10000\n",
    "f = DeformationGradientGenerator(seed=42, size=SIZE).generate()\n",
    "c = K.right_cauchy_green(f)"
   ]
  },
  {
   "cell_type": "code",
   "execution_count": 9,
   "metadata": {},
   "outputs": [],
   "source": [
    "# NEOHOOKE\n",
    "material = NeoHooke()\n",
    "pk2_func_iterator = material.evaluate_iterator(material.pk2(), c, SIZE)\n",
    "pk2 = np.array([next(pk2_func_iterator) for _ in range(SIZE)])  # np.array(list(pk2_func_iterator))\n",
    "cmat_func_iterator = material.evaluate_iterator(material.cmat(), c, SIZE)\n",
    "cmat = np.array([next(cmat_func_iterator) for _ in range(SIZE)])  # np.array(list(cmat_func_iterator))"
   ]
  },
  {
   "cell_type": "code",
   "execution_count": 10,
   "metadata": {},
   "outputs": [
    {
     "name": "stdout",
     "output_type": "stream",
     "text": [
      "f: (10000, 3, 3)\n",
      "c: (10000, 3, 3)\n",
      "pk2: (10000, 3, 3)\n",
      "cmat: (10000, 3, 3, 3, 3)\n"
     ]
    }
   ],
   "source": [
    "print(f\"f: {f.shape}\")\n",
    "print(f\"c: {c.shape}\")\n",
    "print(f\"pk2: {pk2.shape}\")\n",
    "print(f\"cmat: {cmat.shape}\")"
   ]
  }
 ],
 "metadata": {
  "kernelspec": {
   "display_name": "hyper-surrogate-lMkffKrT-py3.11",
   "language": "python",
   "name": "python3"
  },
  "language_info": {
   "codemirror_mode": {
    "name": "ipython",
    "version": 3
   },
   "file_extension": ".py",
   "mimetype": "text/x-python",
   "name": "python",
   "nbconvert_exporter": "python",
   "pygments_lexer": "ipython3",
   "version": "3.11.2"
  }
 },
 "nbformat": 4,
 "nbformat_minor": 2
}
